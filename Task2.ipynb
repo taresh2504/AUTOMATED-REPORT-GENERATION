# Task 2
# Note :- Run each cell one by one then only u will get results.

!pip install reportlab

# Step 2: Import libraries
import pandas as pd
from reportlab.lib.pagesizes import A4
from reportlab.platypus import SimpleDocTemplate, Table, TableStyle, Paragraph, Spacer
from reportlab.lib import colors
from reportlab.lib.styles import getSampleStyleSheet

# Step 3: Create / Load sample CSV data
data = {
    "Name": ["Aman", "Riya", "Kunal", "Neha"],
    "Age": [22, 25, 24, 23],
    "Department": ["IT", "HR", "Finance", "Marketing"],
    "Score": [88, 92, 79, 85]
}

df = pd.DataFrame(data)
df.to_csv("sample_sales_data.csv", index=False)  # Save as CSV

# Step 4: Read CSV
df = pd.read_csv("sample_sales_data.csv")

# Step 5: Create PDF report
pdf_file = "Internship_Report_Task2.pdf"
doc = SimpleDocTemplate(pdf_file, pagesize=A4)

styles = getSampleStyleSheet()
elements = []

# Title
title = Paragraph("Internship Task 2 - Automated Report", styles["Title"])
elements.append(title)
elements.append(Spacer(1, 12))

# Description
desc = Paragraph("This report contains the details of the given dataset in tabular form.", styles["Normal"])
elements.append(desc)
elements.append(Spacer(1, 12))

# Table data
table_data = [list(df.columns)] + df.values.tolist()

# Create table
table = Table(table_data)
table.setStyle(TableStyle([
    ("BACKGROUND", (0, 0), (-1, 0), colors.grey),
    ("TEXTCOLOR", (0, 0), (-1, 0), colors.whitesmoke),
    ("ALIGN", (0, 0), (-1, -1), "CENTER"),
    ("FONTNAME", (0, 0), (-1, 0), "Helvetica-Bold"),
    ("BOTTOMPADDING", (0, 0), (-1, 0), 12),
    ("BACKGROUND", (0, 1), (-1, -1), colors.beige),
    ("GRID", (0, 0), (-1, -1), 1, colors.black)
]))

elements.append(table)

# Step 6: Build PDF
doc.build(elements)

print(f"PDF report generated successfully: {pdf_file}")
